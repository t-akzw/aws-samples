{
 "cells": [
  {
   "cell_type": "markdown",
   "id": "eb03657a",
   "metadata": {},
   "source": [
    "# ちょっぴりDD-Athenaデモ\n",
    "\n",
    "今回は説明・デモ全般をSageMaker Notebookで行ってみようと思います！\n",
    "\n",
    "- Athena 基礎\n",
    "- Athena Federated Query\n",
    "- Athena UDF\n",
    "- Athena EXPLAIN\n",
    "- Athena ML"
   ]
  },
  {
   "cell_type": "markdown",
   "id": "1aa8bb79",
   "metadata": {},
   "source": [
    "## Athena 基礎\n",
    "\n",
    "Athena ではクエリのためにテーブル定義が必要で、デフォルトでは AWS Glue Data Catalog 上のテーブル定義を使用します。  \n",
    "AWS Glue Data Catalog にテーブル定義を作成する方法は次の 3 つです。\n",
    "\n",
    "- Athena DDL\n",
    "- AWS Glue Catalog API\n",
    "- AWS Glue Crawler\n",
    "\n",
    "今回はAthena DDLでテーブルを作成してみましょう。\n",
    "その前にデータベースをSDKを使って作成します。\n",
    "\n",
    "データベース作成が完了したら[Athenaコンソール](https://console.aws.amazon.com/athena/home?region=us-east-1#query)で確認してみます。"
   ]
  },
  {
   "cell_type": "code",
   "execution_count": 1,
   "id": "2c6d45bd",
   "metadata": {},
   "outputs": [
    {
     "name": "stdout",
     "output_type": "stream",
     "text": [
      "Collecting PyAthena\n",
      "  Downloading PyAthena-2.3.0-py3-none-any.whl (37 kB)\n",
      "Requirement already satisfied: botocore>=1.5.52 in /home/ec2-user/anaconda3/envs/python3/lib/python3.6/site-packages (from PyAthena) (1.20.76)\n",
      "Requirement already satisfied: boto3>=1.4.4 in /home/ec2-user/anaconda3/envs/python3/lib/python3.6/site-packages (from PyAthena) (1.17.76)\n",
      "Collecting tenacity>=4.1.0\n",
      "  Downloading tenacity-7.0.0-py2.py3-none-any.whl (23 kB)\n",
      "Requirement already satisfied: s3transfer<0.5.0,>=0.4.0 in /home/ec2-user/anaconda3/envs/python3/lib/python3.6/site-packages (from boto3>=1.4.4->PyAthena) (0.4.2)\n",
      "Requirement already satisfied: jmespath<1.0.0,>=0.7.1 in /home/ec2-user/anaconda3/envs/python3/lib/python3.6/site-packages (from boto3>=1.4.4->PyAthena) (0.10.0)\n",
      "Requirement already satisfied: urllib3<1.27,>=1.25.4 in /home/ec2-user/anaconda3/envs/python3/lib/python3.6/site-packages (from botocore>=1.5.52->PyAthena) (1.26.4)\n",
      "Requirement already satisfied: python-dateutil<3.0.0,>=2.1 in /home/ec2-user/anaconda3/envs/python3/lib/python3.6/site-packages (from botocore>=1.5.52->PyAthena) (2.8.1)\n",
      "Requirement already satisfied: six>=1.5 in /home/ec2-user/anaconda3/envs/python3/lib/python3.6/site-packages (from python-dateutil<3.0.0,>=2.1->botocore>=1.5.52->PyAthena) (1.15.0)\n",
      "Installing collected packages: tenacity, PyAthena\n",
      "Successfully installed PyAthena-2.3.0 tenacity-7.0.0\n"
     ]
    }
   ],
   "source": [
    "# 必要なものをimportだお\n",
    "import sys\n",
    "!{sys.executable} -m pip install PyAthena\n",
    "from pyathena import connect \n",
    "import pandas as pd\n",
    "import sagemaker\n",
    "import boto3"
   ]
  },
  {
   "cell_type": "code",
   "execution_count": 4,
   "id": "f349dd09",
   "metadata": {},
   "outputs": [
    {
     "data": {
      "text/html": [
       "<div>\n",
       "<style scoped>\n",
       "    .dataframe tbody tr th:only-of-type {\n",
       "        vertical-align: middle;\n",
       "    }\n",
       "\n",
       "    .dataframe tbody tr th {\n",
       "        vertical-align: top;\n",
       "    }\n",
       "\n",
       "    .dataframe thead th {\n",
       "        text-align: right;\n",
       "    }\n",
       "</style>\n",
       "<table border=\"1\" class=\"dataframe\">\n",
       "  <thead>\n",
       "    <tr style=\"text-align: right;\">\n",
       "      <th></th>\n",
       "      <th>database_name</th>\n",
       "    </tr>\n",
       "  </thead>\n",
       "  <tbody>\n",
       "    <tr>\n",
       "      <th>0</th>\n",
       "      <td>dddemodb</td>\n",
       "    </tr>\n",
       "    <tr>\n",
       "      <th>1</th>\n",
       "      <td>default</td>\n",
       "    </tr>\n",
       "    <tr>\n",
       "      <th>2</th>\n",
       "      <td>mydb</td>\n",
       "    </tr>\n",
       "    <tr>\n",
       "      <th>3</th>\n",
       "      <td>qshandson</td>\n",
       "    </tr>\n",
       "    <tr>\n",
       "      <th>4</th>\n",
       "      <td>redis</td>\n",
       "    </tr>\n",
       "    <tr>\n",
       "      <th>5</th>\n",
       "      <td>sampledb</td>\n",
       "    </tr>\n",
       "  </tbody>\n",
       "</table>\n",
       "</div>"
      ],
      "text/plain": [
       "  database_name\n",
       "0      dddemodb\n",
       "1       default\n",
       "2          mydb\n",
       "3     qshandson\n",
       "4         redis\n",
       "5      sampledb"
      ]
     },
     "execution_count": 4,
     "metadata": {},
     "output_type": "execute_result"
    }
   ],
   "source": [
    "s3 = boto3.client('s3')\n",
    "bucket = 'dddemo-067150986393'\n",
    "db = 'dddemodb'\n",
    "output_location = 's3://' + bucket + '/athena-ml/'\n",
    "connection = connect(s3_staging_dir=output_location, region_name='us-east-1', work_group='dddemo')\n",
    "\n",
    "# データベース作成\n",
    "q = '''\n",
    "CREATE DATABASE {};\n",
    "'''.format(db)\n",
    "\n",
    "# pd.read_sql(q, connection)\n",
    "\n",
    "q = '''\n",
    "SHOW DATABASES;\n",
    "'''\n",
    "pd.read_sql(q, connection)"
   ]
  },
  {
   "cell_type": "markdown",
   "id": "76c70abf",
   "metadata": {},
   "source": [
    "次にテーブルを作成します。"
   ]
  },
  {
   "cell_type": "markdown",
   "id": "57944060",
   "metadata": {},
   "source": [
    "まずはGUIでテーブルを作成します。 [Athenaページ](https://console.aws.amazon.com/athena/home?region=us-east-1#query)"
   ]
  }
 ],
 "metadata": {
  "kernelspec": {
   "display_name": "conda_python3",
   "language": "python",
   "name": "conda_python3"
  },
  "language_info": {
   "codemirror_mode": {
    "name": "ipython",
    "version": 3
   },
   "file_extension": ".py",
   "mimetype": "text/x-python",
   "name": "python",
   "nbconvert_exporter": "python",
   "pygments_lexer": "ipython3",
   "version": "3.6.13"
  }
 },
 "nbformat": 4,
 "nbformat_minor": 5
}
