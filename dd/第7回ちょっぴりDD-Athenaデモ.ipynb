{
 "cells": [
  {
   "cell_type": "markdown",
   "id": "29d2622b",
   "metadata": {},
   "source": [
    "# ちょっぴりDD-Athenaデモ\n",
    "\n",
    "今回は説明・デモ全般をSageMaker Notebookで行ってみようと思います！\n",
    "\n",
    "- Athena 基礎\n",
    "- Athena Federated Query\n",
    "- Athena UDF\n",
    "- Athena EXPLAIN\n",
    "- Athena ML"
   ]
  },
  {
   "cell_type": "markdown",
   "id": "a7d9ed88",
   "metadata": {},
   "source": [
    "## Athena 基礎\n",
    "\n",
    "Athena ではクエリのためにテーブル定義が必要で、デフォルトでは AWS Glue Data Catalog 上のテーブル定義を使用します。  \n",
    "AWS Glue Data Catalog にテーブル定義を作成する方法は次の 3 つです。\n",
    "\n",
    "- Athena DDL\n",
    "- AWS Glue Catalog API\n",
    "- AWS Glue Crawler\n",
    "\n",
    "今回はAthena DDLでテーブルを作成してみましょう。\n",
    "その前にデータベースをSDKを使って作成します。\n",
    "\n",
    "データベース作成が完了したら[Athenaコンソール](https://console.aws.amazon.com/athena/home?region=us-east-1#query)で確認してみます。\n",
    "\n",
    "1. S3にあるデータソースを覗いてみましょう\n",
    "2. テーブル作成してみる"
   ]
  },
  {
   "cell_type": "code",
   "execution_count": 4,
   "id": "e4ca52ec",
   "metadata": {},
   "outputs": [
    {
     "name": "stdout",
     "output_type": "stream",
     "text": [
      "Requirement already satisfied: PyAthena in /home/ec2-user/anaconda3/envs/python3/lib/python3.6/site-packages (2.3.0)\r\n",
      "Requirement already satisfied: boto3>=1.4.4 in /home/ec2-user/anaconda3/envs/python3/lib/python3.6/site-packages (from PyAthena) (1.17.76)\r\n",
      "Requirement already satisfied: botocore>=1.5.52 in /home/ec2-user/anaconda3/envs/python3/lib/python3.6/site-packages (from PyAthena) (1.20.76)\r\n",
      "Requirement already satisfied: tenacity>=4.1.0 in /home/ec2-user/anaconda3/envs/python3/lib/python3.6/site-packages (from PyAthena) (7.0.0)\r\n",
      "Requirement already satisfied: s3transfer<0.5.0,>=0.4.0 in /home/ec2-user/anaconda3/envs/python3/lib/python3.6/site-packages (from boto3>=1.4.4->PyAthena) (0.4.2)\r\n",
      "Requirement already satisfied: jmespath<1.0.0,>=0.7.1 in /home/ec2-user/anaconda3/envs/python3/lib/python3.6/site-packages (from boto3>=1.4.4->PyAthena) (0.10.0)\r\n",
      "Requirement already satisfied: python-dateutil<3.0.0,>=2.1 in /home/ec2-user/anaconda3/envs/python3/lib/python3.6/site-packages (from botocore>=1.5.52->PyAthena) (2.8.1)\r\n",
      "Requirement already satisfied: urllib3<1.27,>=1.25.4 in /home/ec2-user/anaconda3/envs/python3/lib/python3.6/site-packages (from botocore>=1.5.52->PyAthena) (1.26.4)\r\n",
      "Requirement already satisfied: six>=1.5 in /home/ec2-user/anaconda3/envs/python3/lib/python3.6/site-packages (from python-dateutil<3.0.0,>=2.1->botocore>=1.5.52->PyAthena) (1.15.0)\r\n"
     ]
    }
   ],
   "source": [
    "# 必要なものをimportしておく\n",
    "import sys\n",
    "!{sys.executable} -m pip install PyAthena\n",
    "from pyathena import connect \n",
    "import pandas as pd\n",
    "import sagemaker\n",
    "import boto3"
   ]
  },
  {
   "cell_type": "markdown",
   "id": "5577a4d2",
   "metadata": {},
   "source": [
    "### 基礎1. S3にあるデータを覗いてみる"
   ]
  },
  {
   "cell_type": "code",
   "execution_count": 63,
   "id": "3b7e7804",
   "metadata": {},
   "outputs": [
    {
     "data": {
      "text/html": [
       "<div>\n",
       "<style scoped>\n",
       "    .dataframe tbody tr th:only-of-type {\n",
       "        vertical-align: middle;\n",
       "    }\n",
       "\n",
       "    .dataframe tbody tr th {\n",
       "        vertical-align: top;\n",
       "    }\n",
       "\n",
       "    .dataframe thead th {\n",
       "        text-align: right;\n",
       "    }\n",
       "</style>\n",
       "<table border=\"1\" class=\"dataframe\">\n",
       "  <thead>\n",
       "    <tr style=\"text-align: right;\">\n",
       "      <th></th>\n",
       "      <th>id</th>\n",
       "      <th>monster_name</th>\n",
       "    </tr>\n",
       "  </thead>\n",
       "  <tbody>\n",
       "    <tr>\n",
       "      <th>0</th>\n",
       "      <td>1</td>\n",
       "      <td>スライム</td>\n",
       "    </tr>\n",
       "    <tr>\n",
       "      <th>1</th>\n",
       "      <td>2</td>\n",
       "      <td>ドラキー</td>\n",
       "    </tr>\n",
       "    <tr>\n",
       "      <th>2</th>\n",
       "      <td>3</td>\n",
       "      <td>スライムベス</td>\n",
       "    </tr>\n",
       "    <tr>\n",
       "      <th>3</th>\n",
       "      <td>4</td>\n",
       "      <td>ゴースト</td>\n",
       "    </tr>\n",
       "    <tr>\n",
       "      <th>4</th>\n",
       "      <td>5</td>\n",
       "      <td>モーモン</td>\n",
       "    </tr>\n",
       "    <tr>\n",
       "      <th>5</th>\n",
       "      <td>6</td>\n",
       "      <td>しましまキャット</td>\n",
       "    </tr>\n",
       "    <tr>\n",
       "      <th>6</th>\n",
       "      <td>7</td>\n",
       "      <td>メーダ</td>\n",
       "    </tr>\n",
       "    <tr>\n",
       "      <th>7</th>\n",
       "      <td>8</td>\n",
       "      <td>いたずらもぐら</td>\n",
       "    </tr>\n",
       "    <tr>\n",
       "      <th>8</th>\n",
       "      <td>9</td>\n",
       "      <td>リリパット</td>\n",
       "    </tr>\n",
       "    <tr>\n",
       "      <th>9</th>\n",
       "      <td>10</td>\n",
       "      <td>バブルスライム</td>\n",
       "    </tr>\n",
       "  </tbody>\n",
       "</table>\n",
       "</div>"
      ],
      "text/plain": [
       "   id monster_name\n",
       "0   1         スライム\n",
       "1   2         ドラキー\n",
       "2   3       スライムベス\n",
       "3   4         ゴースト\n",
       "4   5         モーモン\n",
       "5   6     しましまキャット\n",
       "6   7          メーダ\n",
       "7   8      いたずらもぐら\n",
       "8   9        リリパット\n",
       "9  10      バブルスライム"
      ]
     },
     "execution_count": 63,
     "metadata": {},
     "output_type": "execute_result"
    }
   ],
   "source": [
    "import pandas as pd\n",
    "bucket = 'dddemo-067150986393'\n",
    "csv_location = 's3://' + bucket + '/data/year=2021/monster.csv'\n",
    "\n",
    "df = pd.read_csv(csv_location, header=None, names=['id', 'monster_name'])\n",
    "df.head(10)"
   ]
  },
  {
   "cell_type": "markdown",
   "id": "39e63936",
   "metadata": {},
   "source": [
    "![](./assets/monster.png)"
   ]
  },
  {
   "cell_type": "markdown",
   "id": "80ff481e",
   "metadata": {},
   "source": [
    "### 基礎2. テーブル作成してみる\n",
    "\n",
    "csvで保存されたファイルを読み込んでテキスト形式のテーブルを作ってみる。まずはデータベース作成をします。"
   ]
  },
  {
   "cell_type": "code",
   "execution_count": 18,
   "id": "b0970695",
   "metadata": {},
   "outputs": [
    {
     "data": {
      "text/html": [
       "<div>\n",
       "<style scoped>\n",
       "    .dataframe tbody tr th:only-of-type {\n",
       "        vertical-align: middle;\n",
       "    }\n",
       "\n",
       "    .dataframe tbody tr th {\n",
       "        vertical-align: top;\n",
       "    }\n",
       "\n",
       "    .dataframe thead th {\n",
       "        text-align: right;\n",
       "    }\n",
       "</style>\n",
       "<table border=\"1\" class=\"dataframe\">\n",
       "  <thead>\n",
       "    <tr style=\"text-align: right;\">\n",
       "      <th></th>\n",
       "      <th>database_name</th>\n",
       "    </tr>\n",
       "  </thead>\n",
       "  <tbody>\n",
       "    <tr>\n",
       "      <th>0</th>\n",
       "      <td>dddemodb</td>\n",
       "    </tr>\n",
       "    <tr>\n",
       "      <th>1</th>\n",
       "      <td>default</td>\n",
       "    </tr>\n",
       "    <tr>\n",
       "      <th>2</th>\n",
       "      <td>mydb</td>\n",
       "    </tr>\n",
       "    <tr>\n",
       "      <th>3</th>\n",
       "      <td>qshandson</td>\n",
       "    </tr>\n",
       "    <tr>\n",
       "      <th>4</th>\n",
       "      <td>redis</td>\n",
       "    </tr>\n",
       "    <tr>\n",
       "      <th>5</th>\n",
       "      <td>sampledb</td>\n",
       "    </tr>\n",
       "  </tbody>\n",
       "</table>\n",
       "</div>"
      ],
      "text/plain": [
       "  database_name\n",
       "0      dddemodb\n",
       "1       default\n",
       "2          mydb\n",
       "3     qshandson\n",
       "4         redis\n",
       "5      sampledb"
      ]
     },
     "execution_count": 18,
     "metadata": {},
     "output_type": "execute_result"
    }
   ],
   "source": [
    "s3 = boto3.client('s3')\n",
    "bucket = 'dddemo-067150986393'\n",
    "db = 'dddemodb'\n",
    "wg = 'dddemo'\n",
    "output_location = 's3://' + bucket + '/athena-dd/'\n",
    "connection = connect(s3_staging_dir=output_location, region_name='us-east-1', work_group=wg)\n",
    "\n",
    "# データベース作成\n",
    "q = '''\n",
    "CREATE DATABASE {};\n",
    "'''.format(db)\n",
    "\n",
    "# pd.read_sql(q, connection)\n",
    "\n",
    "q = '''\n",
    "SHOW DATABASES;\n",
    "'''\n",
    "pd.read_sql(q, connection)"
   ]
  },
  {
   "cell_type": "markdown",
   "id": "32840c00",
   "metadata": {},
   "source": [
    "次にテーブルを作成しましょう。\n",
    "\n",
    "Athena DDLの記法例\n",
    "\n",
    "- Athena の DDL は HiveQL 形式で記述\n",
    "- 標準的なテーブル定義ステートメントの後に、パーティション定義、データ形式、データの場所、圧縮形式などを指定\n",
    "\n",
    "\n",
    "```\n",
    "CREATE EXTERNAL TABLE IF NOT EXISTS action_log (\n",
    "      user_id string,\n",
    "      action_category string,\n",
    "      action_detail string\n",
    ")\n",
    "  PARTITIONED BY (year int, month int)  -- パーディション\n",
    "  STORED AS PARQUET -- データ形式\n",
    "  LOCATION 's3://athena-examples/action-log/’ -- データの場所\n",
    "  TBLPROPERTIES ('PARQUET.COMPRESS'='SNAPPY'); -- 圧縮形式\n",
    "\n",
    "```"
   ]
  },
  {
   "cell_type": "code",
   "execution_count": 100,
   "id": "2ccbd70e",
   "metadata": {},
   "outputs": [
    {
     "data": {
      "text/html": [
       "<div>\n",
       "<style scoped>\n",
       "    .dataframe tbody tr th:only-of-type {\n",
       "        vertical-align: middle;\n",
       "    }\n",
       "\n",
       "    .dataframe tbody tr th {\n",
       "        vertical-align: top;\n",
       "    }\n",
       "\n",
       "    .dataframe thead th {\n",
       "        text-align: right;\n",
       "    }\n",
       "</style>\n",
       "<table border=\"1\" class=\"dataframe\">\n",
       "  <thead>\n",
       "    <tr style=\"text-align: right;\">\n",
       "      <th></th>\n",
       "    </tr>\n",
       "  </thead>\n",
       "  <tbody>\n",
       "  </tbody>\n",
       "</table>\n",
       "</div>"
      ],
      "text/plain": [
       "Empty DataFrame\n",
       "Columns: []\n",
       "Index: []"
      ]
     },
     "execution_count": 100,
     "metadata": {},
     "output_type": "execute_result"
    }
   ],
   "source": [
    "tablename_parquet = 'monster_parquet'\n",
    "data_location = 's3://' + bucket + '/data/year=2021/' # 今回はパーティションはしない\n",
    "\n",
    "q = \"\"\"\n",
    "CREATE EXTERNAL TABLE IF NOT EXISTS {}.{} (\n",
    "id string,\n",
    "monster_name string\n",
    ")\n",
    "ROW FORMAT SERDE 'org.apache.hadoop.hive.serde2.lazy.LazySimpleSerDe'\n",
    "WITH SERDEPROPERTIES ('serialization.format' = ',', 'field.delim' = ',')\n",
    "STORED AS TEXTFILE\n",
    "LOCATION '{}'\n",
    "TBLPROPERTIES ('has_encrypted_data'='false',  'skip.header.line.count'='1')\n",
    "; \n",
    "\"\"\".format(db, tablename_parquet, data_location)\n",
    "\n",
    "pd.read_sql(q, connection)\n",
    "\n",
    "q = \"\"\"\n",
    "MSCK REPAIR TABLE {}. {};\n",
    "\"\"\".format(db, tablename_parquet)\n",
    "pd.read_sql(q, connection)"
   ]
  },
  {
   "cell_type": "code",
   "execution_count": 101,
   "id": "174e10be",
   "metadata": {},
   "outputs": [
    {
     "name": "stdout",
     "output_type": "stream",
     "text": [
      "\n",
      "SELECT * FROM dddemodb.monster_parquet;\n",
      "\n"
     ]
    },
    {
     "data": {
      "text/html": [
       "<div>\n",
       "<style scoped>\n",
       "    .dataframe tbody tr th:only-of-type {\n",
       "        vertical-align: middle;\n",
       "    }\n",
       "\n",
       "    .dataframe tbody tr th {\n",
       "        vertical-align: top;\n",
       "    }\n",
       "\n",
       "    .dataframe thead th {\n",
       "        text-align: right;\n",
       "    }\n",
       "</style>\n",
       "<table border=\"1\" class=\"dataframe\">\n",
       "  <thead>\n",
       "    <tr style=\"text-align: right;\">\n",
       "      <th></th>\n",
       "      <th>id</th>\n",
       "      <th>monster_name</th>\n",
       "    </tr>\n",
       "  </thead>\n",
       "  <tbody>\n",
       "    <tr>\n",
       "      <th>0</th>\n",
       "      <td>1</td>\n",
       "      <td>スライム</td>\n",
       "    </tr>\n",
       "    <tr>\n",
       "      <th>1</th>\n",
       "      <td>2</td>\n",
       "      <td>ドラキー</td>\n",
       "    </tr>\n",
       "    <tr>\n",
       "      <th>2</th>\n",
       "      <td>3</td>\n",
       "      <td>スライムベス</td>\n",
       "    </tr>\n",
       "    <tr>\n",
       "      <th>3</th>\n",
       "      <td>4</td>\n",
       "      <td>ゴースト</td>\n",
       "    </tr>\n",
       "    <tr>\n",
       "      <th>4</th>\n",
       "      <td>5</td>\n",
       "      <td>モーモン</td>\n",
       "    </tr>\n",
       "    <tr>\n",
       "      <th>...</th>\n",
       "      <td>...</td>\n",
       "      <td>...</td>\n",
       "    </tr>\n",
       "    <tr>\n",
       "      <th>374</th>\n",
       "      <td>375</td>\n",
       "      <td>ハロウィンルイーダ</td>\n",
       "    </tr>\n",
       "    <tr>\n",
       "      <th>375</th>\n",
       "      <td>376</td>\n",
       "      <td>アバン</td>\n",
       "    </tr>\n",
       "    <tr>\n",
       "      <th>376</th>\n",
       "      <td>377</td>\n",
       "      <td>エデンの戦士たち１</td>\n",
       "    </tr>\n",
       "    <tr>\n",
       "      <th>377</th>\n",
       "      <td>378</td>\n",
       "      <td>エデンの戦士たち２</td>\n",
       "    </tr>\n",
       "    <tr>\n",
       "      <th>378</th>\n",
       "      <td>379</td>\n",
       "      <td>ベビースライム</td>\n",
       "    </tr>\n",
       "  </tbody>\n",
       "</table>\n",
       "<p>379 rows × 2 columns</p>\n",
       "</div>"
      ],
      "text/plain": [
       "      id monster_name\n",
       "0      1         スライム\n",
       "1      2         ドラキー\n",
       "2      3       スライムベス\n",
       "3      4         ゴースト\n",
       "4      5         モーモン\n",
       "..   ...          ...\n",
       "374  375    ハロウィンルイーダ\n",
       "375  376          アバン\n",
       "376  377    エデンの戦士たち１\n",
       "377  378    エデンの戦士たち２\n",
       "378  379      ベビースライム\n",
       "\n",
       "[379 rows x 2 columns]"
      ]
     },
     "execution_count": 101,
     "metadata": {},
     "output_type": "execute_result"
    }
   ],
   "source": [
    "# 作成したテーブルに対してクエリを実行してみる\n",
    "q = \"\"\"\n",
    "SELECT * FROM {}.{};\n",
    "\"\"\".format(db, tablename_parquet)\n",
    "\n",
    "print(q)\n",
    "\n",
    "pd.read_sql(q, connection)"
   ]
  },
  {
   "cell_type": "markdown",
   "id": "1a0e9000",
   "metadata": {},
   "source": [
    "#### クエリ結果\n",
    "\n",
    "実行される各クエリのクエリ結果とメタデータ情報は、指定した S3 バケットに自動的に保存されます。  \n",
    "この保存自体をオフにすることはできません。  \n",
    "[Athena コンソール履歴画面](https://console.aws.amazon.com/athena/query-history/home?region=us-east-1)から、クエリ結果ファイルを直接ダウンロードすることが可能です。"
   ]
  },
  {
   "cell_type": "code",
   "execution_count": 102,
   "id": "59eaa757",
   "metadata": {},
   "outputs": [
    {
     "data": {
      "text/html": [
       "<div>\n",
       "<style scoped>\n",
       "    .dataframe tbody tr th:only-of-type {\n",
       "        vertical-align: middle;\n",
       "    }\n",
       "\n",
       "    .dataframe tbody tr th {\n",
       "        vertical-align: top;\n",
       "    }\n",
       "\n",
       "    .dataframe thead th {\n",
       "        text-align: right;\n",
       "    }\n",
       "</style>\n",
       "<table border=\"1\" class=\"dataframe\">\n",
       "  <thead>\n",
       "    <tr style=\"text-align: right;\">\n",
       "      <th></th>\n",
       "    </tr>\n",
       "  </thead>\n",
       "  <tbody>\n",
       "  </tbody>\n",
       "</table>\n",
       "</div>"
      ],
      "text/plain": [
       "Empty DataFrame\n",
       "Columns: []\n",
       "Index: []"
      ]
     },
     "execution_count": 102,
     "metadata": {},
     "output_type": "execute_result"
    }
   ],
   "source": [
    "# もういらないのでテーブルdropしておく\n",
    "q = \"\"\"\n",
    "DROP TABLE `{}.{}`;\n",
    "\"\"\".format(db, tablename_parquet)\n",
    "\n",
    "pd.read_sql(q, connection)"
   ]
  },
  {
   "cell_type": "markdown",
   "id": "a456e0e5",
   "metadata": {},
   "source": [
    "## Athena フェデレーテッドクエリ\n",
    "\n",
    "様々なデータソースに対して SQL クエリを実行可能です。\n",
    "\n",
    "AWS Lambda で動作するコネクタを利用して実行する仕組みです。\n",
    "\n",
    "標準のコネクタとしてさまざまなデータソースが対応済となっています。\n",
    "- Amazon DynamoDB\n",
    "- Amazon Redshift\n",
    "- Apache HBase\n",
    "- MySQL\n",
    "- PostgreSQL など\n",
    "\n",
    "Athena Query Federation SDK を利用して、独自コネクタを実装可能です。\n",
    "\n",
    "\n",
    "1. lambda作成"
   ]
  },
  {
   "cell_type": "markdown",
   "id": "6314d8e9",
   "metadata": {},
   "source": [
    "![](./assets/federated.png)"
   ]
  },
  {
   "cell_type": "markdown",
   "id": "de215e50",
   "metadata": {},
   "source": [
    "## フェデレーテッドクエリ1. lambda作成\n",
    "\n",
    "今回はjupyter notebookのterminalを使ってインストールを行いますが、  \n",
    "cloud9を用いた方がスクリプト実行で全て実施できるので導入がスムーズです。  \n",
    "詳細は[こちら](https://github.com/awslabs/aws-athena-query-federation/tree/master/athena-jdbc)\n",
    "\n",
    "事前に以下が済んでいることを前提とします。  \n",
    "mavenをインストールするスクリプトがSageMaker Notebookだと使えないので手動でインストールしました。\n",
    "\n",
    "- [samのインストール](https://docs.aws.amazon.com/ja_jp/serverless-application-model/latest/developerguide/serverless-sam-cli-install-linux.html) （cloud9の場合は最初から入っています）\n",
    "- [AWS Serverless Applicationへのアクセス権限追加](https://docs.aws.amazon.com/ja_jp/serverlessrepo/latest/devguide/security_iam_id-based-policy-examples.html)"
   ]
  },
  {
   "cell_type": "markdown",
   "id": "1fd28b24",
   "metadata": {},
   "source": [
    "#### mavenインストール手順\n",
    "\n",
    "tar.gzを任意のディレクトに配置してください。\n",
    "\n",
    "```bash\n",
    "sudo mv apache-maven-3.6.3 /opt/\n",
    "cd /opt/\n",
    "sudo ln -s /opt/apache-maven-3.6.3 apache-maven\n",
    "\n",
    "cp ~/.bash_profile{,.bk}\n",
    "echo 'MVN_HOME=/opt/apache-maven' >> ~/.bash_profile\n",
    "echo 'PATH=$MVN_HOME/bin:$PATH:$HOME/.local/bin:$HOME/bin' >> ~/.bash_profile\n",
    "source ~/.bash_profile\n",
    "\n",
    "mvn --version\n",
    "\n",
    "cd -\n",
    "```"
   ]
  },
  {
   "cell_type": "code",
   "execution_count": 114,
   "id": "6bc219d5",
   "metadata": {},
   "outputs": [
    {
     "name": "stdout",
     "output_type": "stream",
     "text": [
      "/bin/sh: /usr/local/bin/mvn: No such file or directory\r\n"
     ]
    }
   ],
   "source": []
  },
  {
   "cell_type": "code",
   "execution_count": null,
   "id": "f924e643",
   "metadata": {},
   "outputs": [],
   "source": []
  }
 ],
 "metadata": {
  "kernelspec": {
   "display_name": "conda_python3",
   "language": "python",
   "name": "conda_python3"
  },
  "language_info": {
   "codemirror_mode": {
    "name": "ipython",
    "version": 3
   },
   "file_extension": ".py",
   "mimetype": "text/x-python",
   "name": "python",
   "nbconvert_exporter": "python",
   "pygments_lexer": "ipython3",
   "version": "3.6.13"
  }
 },
 "nbformat": 4,
 "nbformat_minor": 5
}
